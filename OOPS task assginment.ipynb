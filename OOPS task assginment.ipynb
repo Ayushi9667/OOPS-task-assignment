{
 "cells": [
  {
   "cell_type": "markdown",
   "id": "beca6c63-176f-4966-9f78-9993fff9ed96",
   "metadata": {},
   "source": [
    "Q1, Create a vehicle class with an init method having instance variables as name_of_vehicle, max_speed \n",
    "and average_of_vehicle. "
   ]
  },
  {
   "cell_type": "code",
   "execution_count": 19,
   "id": "f2f4a194-968a-465d-8f87-d019ab3447d6",
   "metadata": {},
   "outputs": [],
   "source": [
    "class vehicle:\n",
    "    def __init__(self, name_of_vehicle, max_speed, average_of_vehicle):\n",
    "        self.name_of_vehicle = name_of_vehicle\n",
    "        self.max_speed = max_speed\n",
    "        self.average_of_vehicle = average_of_vehicle\n",
    "        "
   ]
  },
  {
   "cell_type": "code",
   "execution_count": 23,
   "id": "5384909c-84f6-495b-aba7-3c7e84cf44dc",
   "metadata": {},
   "outputs": [
    {
     "name": "stdout",
     "output_type": "stream",
     "text": [
      "Toyota supra 250 km/h 27 mpg\n"
     ]
    }
   ],
   "source": [
    "car= vehicle(\"Toyota supra\", \"250 km/h\", \"27 mpg\" )\n",
    "print(car.name_of_vehicle , car.max_speed  , car.average_of_vehicle)"
   ]
  },
  {
   "cell_type": "code",
   "execution_count": 24,
   "id": "736ae009-d9df-4b38-b11a-deaf55816bfc",
   "metadata": {},
   "outputs": [
    {
     "data": {
      "text/plain": [
       "'27 mpg'"
      ]
     },
     "execution_count": 24,
     "metadata": {},
     "output_type": "execute_result"
    }
   ],
   "source": [
    "car.average_of_vehicle"
   ]
  },
  {
   "cell_type": "code",
   "execution_count": 25,
   "id": "e6cebf91-3c37-49f1-bc1d-1c6e21f50f0b",
   "metadata": {},
   "outputs": [
    {
     "data": {
      "text/plain": [
       "'27 mpg'"
      ]
     },
     "execution_count": 25,
     "metadata": {},
     "output_type": "execute_result"
    }
   ],
   "source": [
    "car.average_of_vehicle"
   ]
  },
  {
   "cell_type": "markdown",
   "id": "8892fefb-c00c-4387-9e2b-09464330627f",
   "metadata": {},
   "source": [
    "Q2.  Create a child class car from the vehicle class created in Que 1, which will inherit the vehicle class. \n",
    "Create a method named seating_capacity which takes capacity as an argument and returns the name of \n",
    "the vehicle and its seating capacity."
   ]
  },
  {
   "cell_type": "code",
   "execution_count": 34,
   "id": "373d6816-691c-4695-a269-4343be938f98",
   "metadata": {},
   "outputs": [],
   "source": [
    "class vehicle:\n",
    "    def __init__(self, name_of_vehicle, max_speed, average_of_vehicle):\n",
    "        self.name_of_vehicle = name_of_vehicle\n",
    "        self.max_speed = max_speed\n",
    "        self.average_of_vehicle = average_of_vehicle\n",
    "        \n"
   ]
  },
  {
   "cell_type": "code",
   "execution_count": 35,
   "id": "57bce6fb-4abd-460f-9243-236cbb38f9c1",
   "metadata": {},
   "outputs": [],
   "source": [
    "class child(Vehicle):\n",
    "    pass"
   ]
  },
  {
   "cell_type": "code",
   "execution_count": 37,
   "id": "1ac3598c-2b90-4821-b733-5f518ff72f3f",
   "metadata": {},
   "outputs": [
    {
     "name": "stdout",
     "output_type": "stream",
     "text": [
      "school van 150 km/h 20 mpg\n"
     ]
    }
   ],
   "source": [
    "child_car= child(\"school van\", \"150 km/h\", \"20 mpg\" )\n",
    "print(child_car.name_of_vehicle , child_car.max_speed  , child_car.average_of_vehicle)"
   ]
  },
  {
   "cell_type": "code",
   "execution_count": 38,
   "id": "2cb30703-96b3-4d82-8b94-2a6a1c203b68",
   "metadata": {},
   "outputs": [
    {
     "data": {
      "text/plain": [
       "'The seating capacity of a school van is 10 passengers'"
      ]
     },
     "execution_count": 38,
     "metadata": {},
     "output_type": "execute_result"
    }
   ],
   "source": [
    "class child(Vehicle):\n",
    "    \n",
    "    def seating_capacity(self, capacity=10):\n",
    "        return f\"The seating capacity of a {self.name_of_vehicle} is {capacity} passengers\"\n",
    "    \n",
    "child(\"school van\", \"150 km/h\", \"20 mpg\").seating_capacity()"
   ]
  },
  {
   "cell_type": "markdown",
   "id": "89bd1b84-c9bb-4dcd-b0c3-5846573ae060",
   "metadata": {},
   "source": [
    "Q3. What is multiple inheritance? Write a python code to demonstrate multiple inheritance."
   ]
  },
  {
   "cell_type": "code",
   "execution_count": 39,
   "id": "1d9af781-cfd8-4e93-9129-b2e4b12c5e46",
   "metadata": {},
   "outputs": [],
   "source": [
    "#multiple inheritance--> inheriting the properties of two parent class in a child class.\n",
    "\n",
    "#base class 1\n",
    "\n",
    "class Mother:\n",
    "    mothername = \"\"\n",
    " \n",
    "    def mother(self):\n",
    "        print(self.mothername)\n",
    " \n",
    " # Base class2\n",
    " \n",
    " \n",
    "class Father:\n",
    "    fathername = \"\"\n",
    " \n",
    "    def father(self):\n",
    "        print(self.fathername)\n",
    " \n",
    " # Derived class\n",
    " \n",
    " \n",
    "class Son(Mother, Father):\n",
    "    def parents(self):\n",
    "        print(\"Father :\", self.fathername)\n",
    "        print(\"Mother :\", self.mothername)"
   ]
  },
  {
   "cell_type": "code",
   "execution_count": 40,
   "id": "788dd2eb-9d40-4678-a755-1054d200cb02",
   "metadata": {},
   "outputs": [
    {
     "name": "stdout",
     "output_type": "stream",
     "text": [
      "Father : Vikram\n",
      "Mother : Upasna\n"
     ]
    }
   ],
   "source": [
    "s1 = Son()\n",
    "s1.fathername = \"Vikram\"\n",
    "s1.mothername = \"Upasna\"\n",
    "s1.parents()"
   ]
  },
  {
   "cell_type": "markdown",
   "id": "3cb86d16-97d5-455d-bbf5-74dfe37acc87",
   "metadata": {},
   "source": [
    "Q4. What are getter and setter in python? Create a class and create a getter and a setter method in this \n",
    "class."
   ]
  },
  {
   "cell_type": "markdown",
   "id": "15c2307d-6550-4bcd-a604-2e7a95a54a4c",
   "metadata": {},
   "source": [
    "Ans. Getter: A method that allows you to access an attribute in a given class. Setter: A method that allows you to set or mutate the value of an attribute in a class."
   ]
  },
  {
   "cell_type": "code",
   "execution_count": 41,
   "id": "bccdf2cb-d369-433c-b497-388c584d1240",
   "metadata": {},
   "outputs": [],
   "source": [
    "class car :\n",
    "    def __init__(self , year , model, speed ) : \n",
    "        \n",
    "        self.__year = year \n",
    "        self.__model = model\n",
    "        self.__speed = 0\n",
    "        \n",
    "    def set_speed(self,speed) : \n",
    "        self.__speed = 0 if speed < 0 else speed\n",
    "        \n",
    "    def get_speed(self)  : \n",
    "        return self.__speed"
   ]
  },
  {
   "cell_type": "code",
   "execution_count": 42,
   "id": "3005e661-ee2a-45ab-b6cc-7b8dee76112b",
   "metadata": {},
   "outputs": [],
   "source": [
    "c = car(2021 , \"toyata innova\" , 12)"
   ]
  },
  {
   "cell_type": "code",
   "execution_count": 44,
   "id": "838b19c7-203a-40eb-8179-a1e4bdbad1f9",
   "metadata": {},
   "outputs": [
    {
     "data": {
      "text/plain": [
       "2021"
      ]
     },
     "execution_count": 44,
     "metadata": {},
     "output_type": "execute_result"
    }
   ],
   "source": [
    "c._car__year"
   ]
  },
  {
   "cell_type": "code",
   "execution_count": 49,
   "id": "5877c654-8c82-467f-8068-78814dbe9115",
   "metadata": {},
   "outputs": [],
   "source": [
    "c.set_speed(-245)"
   ]
  },
  {
   "cell_type": "code",
   "execution_count": 50,
   "id": "57eaa2bc-6404-4545-96b1-b91f849f02e1",
   "metadata": {},
   "outputs": [
    {
     "data": {
      "text/plain": [
       "0"
      ]
     },
     "execution_count": 50,
     "metadata": {},
     "output_type": "execute_result"
    }
   ],
   "source": [
    "c.get_speed()"
   ]
  },
  {
   "cell_type": "code",
   "execution_count": 51,
   "id": "c843b7d2-f8c3-469f-8c19-7023daf80e1d",
   "metadata": {},
   "outputs": [],
   "source": [
    "c.set_speed(345)"
   ]
  },
  {
   "cell_type": "code",
   "execution_count": 52,
   "id": "90e633fb-6f5a-4459-a7b9-955bcf4839b1",
   "metadata": {},
   "outputs": [
    {
     "data": {
      "text/plain": [
       "345"
      ]
     },
     "execution_count": 52,
     "metadata": {},
     "output_type": "execute_result"
    }
   ],
   "source": [
    "c.get_speed()"
   ]
  },
  {
   "cell_type": "markdown",
   "id": "c69b3e36-a16c-440e-a387-db1f9fe336cc",
   "metadata": {},
   "source": [
    "Q5.What is method overriding in python? Write a python code to demonstrate method overriding."
   ]
  },
  {
   "cell_type": "markdown",
   "id": "dccf8bdd-fe67-417c-b849-666558b9d04e",
   "metadata": {},
   "source": [
    "If subclass (child class) has the same method as declared in the parent class, it is known as method overriding."
   ]
  },
  {
   "cell_type": "code",
   "execution_count": 54,
   "id": "406c07d0-3a7d-429c-9bc6-4677365bba8d",
   "metadata": {},
   "outputs": [],
   "source": [
    "class parent:\n",
    "    def func1(self):\n",
    "        print(\"This function is in parent class\")\n",
    "        \n",
    "\n",
    "class child(parent):\n",
    "     def func2(self):\n",
    "        print(\"This function is in child class\")\n",
    "        "
   ]
  },
  {
   "cell_type": "code",
   "execution_count": null,
   "id": "c2f76dd9-89a5-4c47-8318-87e48e4db1dd",
   "metadata": {},
   "outputs": [],
   "source": []
  }
 ],
 "metadata": {
  "kernelspec": {
   "display_name": "Python 3 (ipykernel)",
   "language": "python",
   "name": "python3"
  },
  "language_info": {
   "codemirror_mode": {
    "name": "ipython",
    "version": 3
   },
   "file_extension": ".py",
   "mimetype": "text/x-python",
   "name": "python",
   "nbconvert_exporter": "python",
   "pygments_lexer": "ipython3",
   "version": "3.10.8"
  }
 },
 "nbformat": 4,
 "nbformat_minor": 5
}
